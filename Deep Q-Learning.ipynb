{
 "cells": [
  {
   "cell_type": "code",
   "execution_count": 1,
   "id": "746189ff",
   "metadata": {},
   "outputs": [],
   "source": [
    "import gym\n",
    "import math\n",
    "import random\n",
    "import numpy as np\n",
    "import matplotlib\n",
    "import matplotlib.pyplot as plt\n",
    "from collections import namedtuple, deque\n",
    "from itertools import count\n",
    "\n",
    "import torch\n",
    "import torch.nn as nn\n",
    "import torch.optim as optim\n",
    "import torch.nn.functional as F\n",
    "\n",
    "import os\n",
    "os.environ[\"KMP_DUPLICATE_LIB_OK\"]=\"TRUE\""
   ]
  },
  {
   "cell_type": "markdown",
   "id": "ae37b38c",
   "metadata": {},
   "source": [
    "## Open AI gym"
   ]
  },
  {
   "cell_type": "markdown",
   "id": "6cdc5ac3",
   "metadata": {},
   "source": [
    "Open AI gym is a standard reinforcement learning environment to train models."
   ]
  },
  {
   "cell_type": "code",
   "execution_count": 2,
   "id": "4741e32d",
   "metadata": {},
   "outputs": [],
   "source": [
    "if gym.__version__[:4] == '0.26':\n",
    "    env = gym.make('CartPole-v1')\n",
    "elif gym.__version__[:4] == '0.25':\n",
    "    env = gym.make('CartPole-v1', new_step_api=True)\n",
    "else:\n",
    "    raise ImportError(f\"Requires gym v25 or v26, actual version: {gym.__version__}\")"
   ]
  },
  {
   "cell_type": "code",
   "execution_count": 3,
   "id": "aa0d955b",
   "metadata": {},
   "outputs": [
    {
     "data": {
      "text/plain": [
       "'0.26.2'"
      ]
     },
     "execution_count": 3,
     "metadata": {},
     "output_type": "execute_result"
    }
   ],
   "source": [
    "gym.__version__"
   ]
  },
  {
   "cell_type": "code",
   "execution_count": 4,
   "id": "94299cee",
   "metadata": {},
   "outputs": [],
   "source": [
    "is_ipython = 'inline' in matplotlib.get_backend()\n",
    "if is_ipython:\n",
    "    from IPython import display\n",
    "\n",
    "plt.ion()\n",
    "\n",
    "device = torch.device(\"cuda\" if torch.cuda.is_available() else \"cpu\")"
   ]
  },
  {
   "cell_type": "code",
   "execution_count": 5,
   "id": "b5f66bc6",
   "metadata": {},
   "outputs": [
    {
     "data": {
      "text/plain": [
       "device(type='cuda')"
      ]
     },
     "execution_count": 5,
     "metadata": {},
     "output_type": "execute_result"
    }
   ],
   "source": [
    "device"
   ]
  },
  {
   "cell_type": "markdown",
   "id": "13e9bf9e",
   "metadata": {},
   "source": [
    "## Data collection"
   ]
  },
  {
   "cell_type": "markdown",
   "id": "0d0e0a36",
   "metadata": {},
   "source": [
    "The ReplayMemory class will hold the transitions of states, actions, next states, and rewards between states."
   ]
  },
  {
   "cell_type": "code",
   "execution_count": 6,
   "id": "b9c84e75",
   "metadata": {},
   "outputs": [],
   "source": [
    "Transition = namedtuple('Transition', ('state', 'action', 'next_state', 'reward'))\n",
    "\n",
    "class ReplayMemory(object):\n",
    "    def __init__(self, capacity):\n",
    "        self.memory = deque([], maxlen=capacity)\n",
    "        \n",
    "    def push(self, *args):\n",
    "        self.memory.append(Transition(*args))\n",
    "        \n",
    "    def sample(self, batch_size):\n",
    "        return random.sample(self.memory, batch_size)\n",
    "    \n",
    "    def __len__(self):\n",
    "        return len(self.memory)"
   ]
  },
  {
   "cell_type": "markdown",
   "id": "9752a029",
   "metadata": {},
   "source": [
    "# DQN Algorithm"
   ]
  },
  {
   "cell_type": "markdown",
   "id": "09fd91d7",
   "metadata": {},
   "source": [
    "# $$ R_{t_0} = \\sum_{t=t_0}^\\infty \\gamma^{t-t_0} r_t$$ "
   ]
  },
  {
   "cell_type": "markdown",
   "id": "5f6b7690",
   "metadata": {},
   "source": [
    "Our model will try to maximize this function, finding the largest possible discounted cumulative reward"
   ]
  },
  {
   "cell_type": "markdown",
   "id": "c25e2847",
   "metadata": {},
   "source": [
    "$ R_{t_0}$ is known as the **return**. $\\gamma$ is the **discount** factor and $r_t$ is the state **reward**."
   ]
  },
  {
   "cell_type": "markdown",
   "id": "1d0dc93e",
   "metadata": {},
   "source": [
    "This function uses $\\gamma$ to calculate the discount of future rewards. This discount allows immediate rewards to have greater effects than rewards further into the future."
   ]
  },
  {
   "cell_type": "markdown",
   "id": "3ab2fa00",
   "metadata": {},
   "source": [
    "As we have no function to determine the approximate rewards of every action, we will use a neural network to iteratively approximate the expected rewards of actions."
   ]
  },
  {
   "cell_type": "markdown",
   "id": "b183c3c4",
   "metadata": {},
   "source": [
    "This equation denotes the policy that finds the highest valued action for a given state/action pair"
   ]
  },
  {
   "cell_type": "markdown",
   "id": "d90bf8a3",
   "metadata": {},
   "source": [
    "## $$ \\pi^*(s) = \\underset{a}{argmax} \\ Q^*(s,a)$$"
   ]
  },
  {
   "cell_type": "markdown",
   "id": "d93d198a",
   "metadata": {},
   "source": [
    "This is the training update rule that will update  $Q^\\pi$, based on it's state/action pair reward and the discounted next state/action rewards. Known as the bellman equation."
   ]
  },
  {
   "cell_type": "markdown",
   "id": "d173ea77",
   "metadata": {},
   "source": [
    "## $$ Q^\\pi (s,a) = r + \\gamma Q^\\pi(s', \\pi(s'))$$"
   ]
  },
  {
   "cell_type": "markdown",
   "id": "d5936d62",
   "metadata": {},
   "source": [
    "This is the error function, Temporal Difference Error, used to measure how accurate the current Q function is. "
   ]
  },
  {
   "cell_type": "markdown",
   "id": "4b190ee1",
   "metadata": {},
   "source": [
    "## $$ \\delta =  Q^\\pi (s,a) - (r + \\gamma \\ \\overset{'}{\\underset{a}{max}} \\ Q^\\pi(s', \\pi(s'))$$"
   ]
  },
  {
   "cell_type": "markdown",
   "id": "fc42761b",
   "metadata": {},
   "source": [
    "This function will minismise the loss using Huber loss. Similar to mean squared error when the error is small, but similar to mean absolute error when error is large. This makes it more robust, as it can handle outliers when Q estimates are noisy."
   ]
  },
  {
   "cell_type": "markdown",
   "id": "0ecc9e3c",
   "metadata": {},
   "source": [
    "## $ \\cal L = \\frac{1}{|B|} \\sum_{(s,a,s',r)\\epsilon B} \\cal L(\\delta)$\n",
    "\n",
    "where $ \\cal L(\\delta) = \\begin{cases} \\frac{1}{2} \\delta^2 \\ \\ \\ \\ \\ \\ \\ \\ \\ \\textrm{for} |\\delta| <= 1 \\\\ |\\delta| - \\frac{1}{2} \\ \\ \\ \\textrm{ otherwise} \\end{cases} $"
   ]
  },
  {
   "cell_type": "code",
   "execution_count": 7,
   "id": "c0bb59c7",
   "metadata": {},
   "outputs": [],
   "source": [
    "class DQN(nn.Module):\n",
    "    \n",
    "    def __init__(self, n_observations, n_actions):\n",
    "        super(DQN, self).__init__()\n",
    "        self.layer1 = nn.Linear(n_observations, 128)\n",
    "        self.layer2 = nn.Linear(128, 128)        \n",
    "        self.layer3 = nn.Linear(128, n_actions)\n",
    "        \n",
    "    def forward(self, x):\n",
    "        x = F.relu(self.layer1(x))\n",
    "        x = F.relu(self.layer2(x))  \n",
    "        return self.layer3(x)"
   ]
  },
  {
   "cell_type": "markdown",
   "id": "61c4c85d",
   "metadata": {},
   "source": [
    "This neural network will output the action to take in a given state. During training, it will effectively be trying to determine the Q value of each state action pair."
   ]
  },
  {
   "cell_type": "code",
   "execution_count": 8,
   "id": "0cf94b7f",
   "metadata": {},
   "outputs": [],
   "source": [
    "BATCH_SIZE = 128\n",
    "GAMMA = 0.99\n",
    "EPS_START = 0.9\n",
    "EPS_END = 0.05\n",
    "EPS_DECAY = 1000\n",
    "TAU = 0.005\n",
    "LR = 1e-4\n",
    "\n",
    "n_actions = env.action_space.n\n",
    "\n",
    "if gym.__version__[:4] == '0.26':\n",
    "    state, _ = env.reset()\n",
    "elif gym.__version__[:4] == '0.25':\n",
    "    state, _ = env.reset(return_info=True)\n",
    "    \n",
    "n_observations = len(state)\n",
    "\n",
    "policy_net = DQN(n_observations, n_actions).to(device)\n",
    "target_net = DQN(n_observations, n_actions).to(device)\n",
    "target_net.load_state_dict(policy_net.state_dict())\n",
    "\n",
    "optimizer = optim.AdamW(policy_net.parameters(), lr=LR, amsgrad=True)\n",
    "memory = ReplayMemory(10000)\n",
    "\n",
    "steps_done = 0"
   ]
  },
  {
   "cell_type": "markdown",
   "id": "abb85b00",
   "metadata": {},
   "source": [
    "Using a epsilon greedy algorithm, our policy will at times randomly choose an action to take to aid in exploration and avoid over-exploitation, with the number of random choices decaying over time."
   ]
  },
  {
   "cell_type": "code",
   "execution_count": 9,
   "id": "3ebd1c98",
   "metadata": {},
   "outputs": [],
   "source": [
    "def select_action(state):\n",
    "    global steps_done\n",
    "    sample = random.random()\n",
    "    eps_threshold = EPS_END + (EPS_START - EPS_END) * math.exp(-1. * steps_done / EPS_DECAY)\n",
    "    \n",
    "    steps_done += 1\n",
    "    if sample > eps_threshold:\n",
    "        with torch.no_grad():\n",
    "            return policy_net(state).max(1)[1].view(1,1)\n",
    "    else:\n",
    "        return torch.tensor([[env.action_space.sample()]], device=device, dtype=torch.long)\n",
    "    \n",
    "episode_durations = []"
   ]
  },
  {
   "cell_type": "markdown",
   "id": "29ec1a85",
   "metadata": {},
   "source": [
    "This function will plot the durations of the episodes as they occur."
   ]
  },
  {
   "cell_type": "code",
   "execution_count": 10,
   "id": "8b21f486",
   "metadata": {},
   "outputs": [],
   "source": [
    "def plot_durations(show_result=False):\n",
    "    plt.figure(1)\n",
    "    durations_t = torch.tensor(episode_durations, dtype=torch.float)\n",
    "    if show_result:\n",
    "        plt.title('Result')\n",
    "    else:\n",
    "        plt.clf()\n",
    "        plt.title('Training')\n",
    "    plt.xlabel('Episode')\n",
    "    plt.ylabel('Duration')\n",
    "    plt.plot(durations_t.numpy())\n",
    "    \n",
    "    if len(durations_t) >= 100:\n",
    "        means = durations_t.unfold(0,100,1).mean(1).view(-1)\n",
    "        means = torch.cat((torch.zeros(99), means))\n",
    "        plt.plot(means.numpy())\n",
    "        \n",
    "    plt.pause(0.001)\n",
    "    \n",
    "    if is_ipython:\n",
    "        if not show_result:\n",
    "            display.display(plt.gcf())\n",
    "            display.clear_output(wait=True)\n",
    "        else:\n",
    "            display.display(plt.gcf())"
   ]
  },
  {
   "cell_type": "markdown",
   "id": "9dbef96a",
   "metadata": {},
   "source": [
    "## Optimization"
   ]
  },
  {
   "cell_type": "markdown",
   "id": "a8fff5b7",
   "metadata": {},
   "source": [
    "This function will only start optimizing the model after it has at least a batch of transitions, in this case, 128 timesteps.\n",
    "\n",
    "Once it has enough transitions, it will randomly sample these transition states and calculate the values of each action as a batch, for each given batch of states. \n",
    "\n",
    "It will then use the secondary target network to compute the values of the batch of next states, and use the bellman equation to determine the expected updated value function. $ Q^\\pi (s_t,a) = r + \\gamma V(s_{t+1})$\n",
    "\n",
    "Using Huber Loss, the function then optimizes the policy model to closer resemble the updated value function, clipping gradients that explode."
   ]
  },
  {
   "cell_type": "markdown",
   "id": "64077fa3",
   "metadata": {},
   "source": [
    "A V(s) function is the value of a state given all future possible actions taken from that state\n",
    "\n",
    "A Q(s,a) function is the value of a single state upon taking a specific action\n",
    "\n",
    "In our case, the Q(s,a) function will be represented by the policy_net, and the V(s) function will be represented by the target_net, using the following equation: $ V(s_{t+1}) = \\underset{a}{\\textrm{max}} \\ Q(s_{t+1}, a) $"
   ]
  },
  {
   "cell_type": "code",
   "execution_count": 11,
   "id": "0bc2d7b6",
   "metadata": {},
   "outputs": [],
   "source": [
    "def optimize_model():\n",
    "    if len(memory) < BATCH_SIZE:\n",
    "        return\n",
    "    transitions = memory.sample(BATCH_SIZE)\n",
    "    \n",
    "    batch = Transition(*zip(*transitions))\n",
    "    \n",
    "    non_final_mask = torch.tensor(tuple(map(lambda s: s is not None,\n",
    "                                           batch.next_state)), device=device, dtype=torch.bool)\n",
    "    non_final_next_states = torch.cat([s for s in batch.next_state\n",
    "                                      if s is not None])\n",
    "    \n",
    "    state_batch = torch.cat(batch.state)\n",
    "    action_batch = torch.cat(batch.action)\n",
    "    reward_batch = torch.cat(batch.reward)\n",
    "    \n",
    "    state_action_values = policy_net(state_batch).gather(1, action_batch)\n",
    "    \n",
    "    next_state_values = torch.zeros(BATCH_SIZE, device=device)\n",
    "    with torch.no_grad():\n",
    "        next_state_values[non_final_mask] = target_net(non_final_next_states).max(1)[0]\n",
    "        \n",
    "    expected_state_action_values = (next_state_values * GAMMA) + reward_batch\n",
    "    \n",
    "    criterion = nn.SmoothL1Loss()  \n",
    "    loss = criterion(state_action_values, expected_state_action_values.unsqueeze(1))\n",
    "    \n",
    "    optimizer.zero_grad()\n",
    "    loss.backward()\n",
    "    \n",
    "    torch.nn.utils.clip_grad_value_(policy_net.parameters(), 100)\n",
    "    optimizer.step()"
   ]
  },
  {
   "cell_type": "markdown",
   "id": "5c9df132",
   "metadata": {},
   "source": [
    "## Training"
   ]
  },
  {
   "cell_type": "markdown",
   "id": "117e3fcd",
   "metadata": {},
   "source": [
    "During training, the epsilon greedy policy chooses actions to be taken, either randomly or greedily based on the policy_net's value function.\n",
    "\n",
    "The policy model is then optimized, based on the bellman equation using target_net's expected_value of future states. Then the target_net is updated, using a soft update respective to TAU, effectively updating the next state value function at a slower rate.\n",
    "\n",
    "This optimization is iterated over 600 episodes as the models find the optimal state/action value functions of the current state and next states."
   ]
  },
  {
   "cell_type": "code",
   "execution_count": 12,
   "id": "464ca66c",
   "metadata": {
    "scrolled": true
   },
   "outputs": [
    {
     "name": "stdout",
     "output_type": "stream",
     "text": [
      "Complete\n"
     ]
    },
    {
     "data": {
      "image/png": "[encoded data removed]",
      "text/plain": [
       "<Figure size 432x288 with 1 Axes>"
      ]
     },
     "metadata": {
      "needs_background": "light"
     },
     "output_type": "display_data"
    },
    {
     "data": {
      "text/plain": [
       "<Figure size 432x288 with 0 Axes>"
      ]
     },
     "metadata": {},
     "output_type": "display_data"
    },
    {
     "data": {
      "text/plain": [
       "<Figure size 432x288 with 0 Axes>"
      ]
     },
     "metadata": {},
     "output_type": "display_data"
    }
   ],
   "source": [
    "if torch.cuda.is_available():\n",
    "    num_episodes = 600\n",
    "else:\n",
    "    num_episodes = 50\n",
    "    \n",
    "for i_episode in range(num_episodes):\n",
    "    if gym.__version__[:4] == '0.26':\n",
    "        state, _ = env.reset()\n",
    "    elif gym.__version__[:4] == '0.25':\n",
    "        state, _ = env.reset(return_info=True)\n",
    "    \n",
    "    state = torch.tensor(state, dtype=torch.float32, device=device).unsqueeze(0)\n",
    "    \n",
    "    for t in count():\n",
    "        action = select_action(state)\n",
    "        observation, reward, terminated, truncated, _ = env.step(action.item())\n",
    "        reward = torch.tensor([reward], device=device)\n",
    "        done = terminated or truncated\n",
    "        \n",
    "        if terminated:\n",
    "            next_state = None\n",
    "        else:\n",
    "            next_state =  torch.tensor(observation, dtype=torch.float32, device=device).unsqueeze(0)\n",
    "            \n",
    "        memory.push(state, action, next_state, reward)\n",
    "        \n",
    "        state = next_state\n",
    "        optimize_model()\n",
    "        target_net_state_dict = target_net.state_dict()\n",
    "        policy_net_state_dict = policy_net.state_dict()        \n",
    "        for key in policy_net_state_dict:\n",
    "            target_net_state_dict[key] = policy_net_state_dict[key]*TAU + target_net_state_dict[key]*(1-TAU)\n",
    "        \n",
    "        target_net.load_state_dict(target_net_state_dict)\n",
    "        \n",
    "        if done:\n",
    "            episode_durations.append(t+1)\n",
    "            plot_durations()\n",
    "            break\n",
    "        \n",
    "print('Complete')\n",
    "plot_durations(show_result=True)\n",
    "plt.ioff()\n",
    "plt.show()\n"
   ]
  },
  {
   "cell_type": "markdown",
   "id": "5876662c",
   "metadata": {},
   "source": [
    "## Saving/Loading the trained model"
   ]
  },
  {
   "cell_type": "code",
   "execution_count": 13,
   "id": "174a4ca6",
   "metadata": {},
   "outputs": [],
   "source": [
    "torch.save(policy_net.state_dict(), './dicts/pol.pth')"
   ]
  },
  {
   "cell_type": "code",
   "execution_count": 21,
   "id": "4e3751e9",
   "metadata": {},
   "outputs": [],
   "source": [
    "state, _ = env.reset()\n",
    "n_observations = len(state)\n",
    "n_actions = env.action_space.n\n",
    "policy_net = DQN(n_observations, n_actions).to(device)"
   ]
  },
  {
   "cell_type": "code",
   "execution_count": 22,
   "id": "36c15a1f",
   "metadata": {
    "scrolled": true
   },
   "outputs": [
    {
     "data": {
      "text/plain": [
       "DQN(\n",
       "  (layer1): Linear(in_features=4, out_features=128, bias=True)\n",
       "  (layer2): Linear(in_features=128, out_features=128, bias=True)\n",
       "  (layer3): Linear(in_features=128, out_features=2, bias=True)\n",
       ")"
      ]
     },
     "execution_count": 22,
     "metadata": {},
     "output_type": "execute_result"
    }
   ],
   "source": [
    "policy_net.load_state_dict(torch.load('./dicts/pol.pth'))\n",
    "policy_net.eval()"
   ]
  },
  {
   "cell_type": "markdown",
   "id": "bf7d1c58",
   "metadata": {},
   "source": [
    "## Running the trained policy, and saving a video of the result"
   ]
  },
  {
   "cell_type": "code",
   "execution_count": 23,
   "id": "1a6c42c4",
   "metadata": {},
   "outputs": [],
   "source": [
    "def select_action(state):\n",
    "    return policy_net(state).max(0)[1]"
   ]
  },
  {
   "cell_type": "code",
   "execution_count": 24,
   "id": "e57fa2fb",
   "metadata": {
    "scrolled": true
   },
   "outputs": [
    {
     "name": "stdout",
     "output_type": "stream",
     "text": [
      "Moviepy - Building video G:\\Github Models\\videos/rl-video-episode-0.mp4.\n",
      "Moviepy - Writing video G:\\Github Models\\videos/rl-video-episode-0.mp4\n",
      "\n"
     ]
    },
    {
     "name": "stderr",
     "output_type": "stream",
     "text": [
      "                                                                                                                       "
     ]
    },
    {
     "name": "stdout",
     "output_type": "stream",
     "text": [
      "Moviepy - Done !\n",
      "Moviepy - video ready G:\\Github Models\\videos/rl-video-episode-0.mp4\n"
     ]
    },
    {
     "name": "stderr",
     "output_type": "stream",
     "text": [
      "\r"
     ]
    }
   ],
   "source": [
    "from gym.utils.save_video import save_video\n",
    "env = gym.make(\"CartPole-v1\", render_mode=\"rgb_array_list\")\n",
    "observation, info = env.reset(seed=42)\n",
    "observation = torch.tensor(observation, dtype=torch.float32, device=device)\n",
    "\n",
    "step_starting_index = 0\n",
    "episode_index = 0\n",
    "for step in range(1000):\n",
    "    action = select_action(observation)  # User-defined policy function\n",
    "    observation, reward, terminated, truncated, info = env.step(action.item())\n",
    "    observation = torch.tensor(observation, dtype=torch.float32, device=device)\n",
    "    \n",
    "    if terminated or truncated:\n",
    "        save_video(\n",
    "         env.render(),\n",
    "         \"videos\",\n",
    "         fps=env.metadata[\"render_fps\"]\n",
    "        )\n",
    "#         step_starting_index = step_index + 1\n",
    "#         episode_index += 1\n",
    "# #         env.reset()\n",
    "        break\n",
    "env.close()"
   ]
  },
  {
   "cell_type": "code",
   "execution_count": null,
   "id": "73d9af79",
   "metadata": {},
   "outputs": [],
   "source": []
  }
 ],
 "metadata": {
  "kernelspec": {
   "display_name": "Python 3 (ipykernel)",
   "language": "python",
   "name": "python3"
  },
  "language_info": {
   "codemirror_mode": {
    "name": "ipython",
    "version": 3
   },
   "file_extension": ".py",
   "mimetype": "text/x-python",
   "name": "python",
   "nbconvert_exporter": "python",
   "pygments_lexer": "ipython3",
   "version": "3.9.13"
  }
 },
 "nbformat": 4,
 "nbformat_minor": 5
}
